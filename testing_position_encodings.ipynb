{
 "cells": [
  {
   "cell_type": "code",
   "execution_count": 11,
   "metadata": {},
   "outputs": [
    {
     "name": "stdout",
     "output_type": "stream",
     "text": [
      "The autoreload extension is already loaded. To reload it, use:\n",
      "  %reload_ext autoreload\n"
     ]
    }
   ],
   "source": [
    "%load_ext autoreload\n",
    "%autoreload 2"
   ]
  },
  {
   "cell_type": "code",
   "execution_count": 12,
   "metadata": {},
   "outputs": [],
   "source": [
    "from embedding import *"
   ]
  },
  {
   "cell_type": "code",
   "execution_count": 13,
   "metadata": {},
   "outputs": [],
   "source": [
    "EMBED_DIM = 64\n",
    "MAX_LENGTH = 100\n",
    "TEST_LENGTH = 50\n",
    "TEST_BATCH = 32"
   ]
  },
  {
   "cell_type": "code",
   "execution_count": 14,
   "metadata": {},
   "outputs": [],
   "source": [
    "full_enc = PotentialSpinEncoding(\n",
    "    EMBED_DIM,\n",
    "    MAX_LENGTH,\n",
    ")"
   ]
  },
  {
   "cell_type": "code",
   "execution_count": 15,
   "metadata": {},
   "outputs": [],
   "source": [
    "test_potentials = torch.randn(TEST_LENGTH, TEST_BATCH)\n",
    "test_spins = torch.zeros(TEST_LENGTH, TEST_BATCH)\n",
    "test_spins[torch.randint(0, TEST_LENGTH, (TEST_BATCH,)), torch.arange(TEST_BATCH)] = 1"
   ]
  },
  {
   "cell_type": "code",
   "execution_count": 16,
   "metadata": {},
   "outputs": [
    {
     "data": {
      "text/plain": [
       "tensor([[-0.6131,  1.3820, -0.3787,  ..., -1.0998,  0.6220,  0.3294],\n",
       "        [-0.3766,  0.4524, -0.5165,  ..., -0.5903,  0.4583, -1.8043],\n",
       "        [ 1.1607,  0.2749,  0.0764,  ...,  0.7385, -1.4699, -0.0570],\n",
       "        ...,\n",
       "        [ 2.3378, -0.6581, -0.6728,  ..., -0.3249, -1.2299, -0.6035],\n",
       "        [ 1.1438, -0.9660, -2.2608,  ..., -1.1322, -0.0951,  0.0197],\n",
       "        [ 1.5468, -0.3937,  0.1428,  ..., -1.2777,  0.0492,  0.4348]])"
      ]
     },
     "execution_count": 16,
     "metadata": {},
     "output_type": "execute_result"
    }
   ],
   "source": [
    "test_potentials"
   ]
  },
  {
   "cell_type": "code",
   "execution_count": 17,
   "metadata": {},
   "outputs": [
    {
     "data": {
      "text/plain": [
       "tensor([[1., 0., 0.,  ..., 0., 0., 0.],\n",
       "        [0., 0., 0.,  ..., 0., 0., 0.],\n",
       "        [0., 0., 1.,  ..., 0., 0., 0.],\n",
       "        ...,\n",
       "        [0., 0., 0.,  ..., 0., 0., 0.],\n",
       "        [0., 0., 0.,  ..., 0., 0., 0.],\n",
       "        [0., 0., 0.,  ..., 0., 0., 0.]])"
      ]
     },
     "execution_count": 17,
     "metadata": {},
     "output_type": "execute_result"
    }
   ],
   "source": [
    "test_spins"
   ]
  },
  {
   "cell_type": "code",
   "execution_count": 18,
   "metadata": {},
   "outputs": [
    {
     "data": {
      "text/plain": [
       "torch.Size([100, 32, 64])"
      ]
     },
     "execution_count": 18,
     "metadata": {},
     "output_type": "execute_result"
    }
   ],
   "source": [
    "full_enc(test_potentials, test_spins).shape"
   ]
  },
  {
   "cell_type": "code",
   "execution_count": 19,
   "metadata": {},
   "outputs": [
    {
     "data": {
      "text/plain": [
       "tensor([[0., -inf, -inf,  ..., -inf, -inf, -inf],\n",
       "        [0., 0., -inf,  ..., -inf, -inf, -inf],\n",
       "        [0., 0., 0.,  ..., -inf, -inf, -inf],\n",
       "        ...,\n",
       "        [0., 0., 0.,  ..., 0., -inf, -inf],\n",
       "        [0., 0., 0.,  ..., 0., 0., -inf],\n",
       "        [0., 0., 0.,  ..., 0., 0., 0.]])"
      ]
     },
     "execution_count": 19,
     "metadata": {},
     "output_type": "execute_result"
    }
   ],
   "source": [
    "# autoregressive mask for encoder\n",
    "# TODO: is the encoder mask in the right orientation?\n",
    "encoder_mask = torch.triu(\n",
    "    torch.ones(TEST_LENGTH * 2, TEST_LENGTH * 2) * -float(\"inf\"), diagonal=1\n",
    ")\n",
    "encoder_mask"
   ]
  },
  {
   "cell_type": "code",
   "execution_count": 20,
   "metadata": {},
   "outputs": [],
   "source": [
    "encoder_layer = nn.TransformerEncoderLayer(\n",
    "    d_model=EMBED_DIM,\n",
    "    nhead=8,\n",
    "    dim_feedforward=256,\n",
    "    dropout=0.1,\n",
    "    activation=\"relu\",\n",
    ")"
   ]
  },
  {
   "cell_type": "code",
   "execution_count": 21,
   "metadata": {},
   "outputs": [
    {
     "name": "stderr",
     "output_type": "stream",
     "text": [
      "/home/spandan/anaconda3/envs/tqs2/lib/python3.12/site-packages/torch/nn/modules/transformer.py:306: UserWarning: enable_nested_tensor is True, but self.use_nested_tensor is False because encoder_layer.self_attn.batch_first was not True(use batch_first for better inference performance)\n",
      "  warnings.warn(f\"enable_nested_tensor is True, but self.use_nested_tensor is False because {why_not_sparsity_fast_path}\")\n"
     ]
    }
   ],
   "source": [
    "encoder = nn.TransformerEncoder(\n",
    "    encoder_layer,\n",
    "    num_layers=1,\n",
    ")"
   ]
  },
  {
   "cell_type": "code",
   "execution_count": 22,
   "metadata": {},
   "outputs": [
    {
     "data": {
      "text/plain": [
       "torch.Size([100, 32, 64])"
      ]
     },
     "execution_count": 22,
     "metadata": {},
     "output_type": "execute_result"
    }
   ],
   "source": [
    "post_attn = encoder(full_enc(test_potentials, test_spins), mask=encoder_mask)\n",
    "post_attn.shape"
   ]
  },
  {
   "cell_type": "code",
   "execution_count": 23,
   "metadata": {},
   "outputs": [
    {
     "data": {
      "text/plain": [
       "tensor([[-0.2351, -0.3320,  0.3114,  ...,  0.7564, -0.7638, -0.0981],\n",
       "        [ 0.4418, -0.3220,  0.8262,  ...,  1.0231, -1.3270, -0.5086],\n",
       "        [ 0.5077, -1.4495,  0.6560,  ...,  1.1661, -1.2613,  0.0035],\n",
       "        ...,\n",
       "        [-0.1703, -2.0083, -1.4974,  ...,  1.5467, -1.2134,  0.3469],\n",
       "        [-1.5173, -1.6011, -2.1711,  ...,  1.4834, -1.0688,  0.6295],\n",
       "        [-1.6123, -0.1485, -1.6303,  ...,  1.4366, -1.0378,  0.2579]],\n",
       "       grad_fn=<SliceBackward0>)"
      ]
     },
     "execution_count": 23,
     "metadata": {},
     "output_type": "execute_result"
    }
   ],
   "source": [
    "post_attn[:, 1, :]  # logits - (seq, embed)"
   ]
  },
  {
   "cell_type": "code",
   "execution_count": 24,
   "metadata": {},
   "outputs": [],
   "source": [
    "prob_head = nn.Linear(EMBED_DIM, 2)\n",
    "phase_head = nn.Linear(EMBED_DIM, 1)"
   ]
  },
  {
   "cell_type": "code",
   "execution_count": 25,
   "metadata": {},
   "outputs": [],
   "source": [
    "prob_logits = prob_head(post_attn)\n",
    "phase_logits = phase_head(post_attn)"
   ]
  },
  {
   "cell_type": "code",
   "execution_count": 26,
   "metadata": {},
   "outputs": [
    {
     "data": {
      "text/plain": [
       "(torch.Size([100, 32, 2]), torch.Size([100, 32, 1]))"
      ]
     },
     "execution_count": 26,
     "metadata": {},
     "output_type": "execute_result"
    }
   ],
   "source": [
    "prob_logits.shape, phase_logits.shape"
   ]
  },
  {
   "cell_type": "code",
   "execution_count": 27,
   "metadata": {},
   "outputs": [
    {
     "data": {
      "text/plain": [
       "32"
      ]
     },
     "execution_count": 27,
     "metadata": {},
     "output_type": "execute_result"
    }
   ],
   "source": [
    "TEST_BATCH"
   ]
  },
  {
   "cell_type": "code",
   "execution_count": 28,
   "metadata": {},
   "outputs": [],
   "source": [
    "# Probabilities and phases are a function of the last sequence member?\n",
    "probs = torch.softmax(prob_logits[-1, :, :], dim=-1)\n",
    "phases = torch.nn.functional.softsign(phase_logits[-1, :, :]) * torch.pi"
   ]
  },
  {
   "cell_type": "code",
   "execution_count": 29,
   "metadata": {},
   "outputs": [
    {
     "name": "stdout",
     "output_type": "stream",
     "text": [
      "torch.Size([32, 2]) torch.Size([32, 1])\n"
     ]
    }
   ],
   "source": [
    "print(probs.shape, phases.shape)"
   ]
  },
  {
   "cell_type": "code",
   "execution_count": 30,
   "metadata": {},
   "outputs": [
    {
     "data": {
      "text/plain": [
       "tensor([[0.5411, 0.4589],\n",
       "        [0.5236, 0.4764],\n",
       "        [0.4879, 0.5121],\n",
       "        [0.4216, 0.5784],\n",
       "        [0.5673, 0.4327],\n",
       "        [0.5257, 0.4743],\n",
       "        [0.5596, 0.4404],\n",
       "        [0.5280, 0.4720],\n",
       "        [0.5290, 0.4710],\n",
       "        [0.5703, 0.4297],\n",
       "        [0.4812, 0.5188],\n",
       "        [0.5348, 0.4652],\n",
       "        [0.4894, 0.5106],\n",
       "        [0.4994, 0.5006],\n",
       "        [0.4476, 0.5524],\n",
       "        [0.4968, 0.5032],\n",
       "        [0.5066, 0.4934],\n",
       "        [0.4748, 0.5252],\n",
       "        [0.5009, 0.4991],\n",
       "        [0.5882, 0.4118],\n",
       "        [0.5571, 0.4429],\n",
       "        [0.4806, 0.5194],\n",
       "        [0.5705, 0.4295],\n",
       "        [0.5695, 0.4305],\n",
       "        [0.5365, 0.4635],\n",
       "        [0.5490, 0.4510],\n",
       "        [0.5233, 0.4767],\n",
       "        [0.5030, 0.4970],\n",
       "        [0.5143, 0.4857],\n",
       "        [0.5370, 0.4630],\n",
       "        [0.5557, 0.4443],\n",
       "        [0.5870, 0.4130]], grad_fn=<SoftmaxBackward0>)"
      ]
     },
     "execution_count": 30,
     "metadata": {},
     "output_type": "execute_result"
    }
   ],
   "source": [
    "probs"
   ]
  },
  {
   "cell_type": "code",
   "execution_count": 31,
   "metadata": {},
   "outputs": [
    {
     "data": {
      "text/plain": [
       "tensor([[1.],\n",
       "        [1.],\n",
       "        [0.],\n",
       "        [1.],\n",
       "        [1.],\n",
       "        [0.],\n",
       "        [0.],\n",
       "        [0.],\n",
       "        [0.],\n",
       "        [0.],\n",
       "        [0.],\n",
       "        [1.],\n",
       "        [1.],\n",
       "        [0.],\n",
       "        [0.],\n",
       "        [0.],\n",
       "        [0.],\n",
       "        [0.],\n",
       "        [0.],\n",
       "        [0.],\n",
       "        [0.],\n",
       "        [0.],\n",
       "        [0.],\n",
       "        [0.],\n",
       "        [0.],\n",
       "        [0.],\n",
       "        [1.],\n",
       "        [0.],\n",
       "        [1.],\n",
       "        [0.],\n",
       "        [0.],\n",
       "        [0.]])"
      ]
     },
     "execution_count": 31,
     "metadata": {},
     "output_type": "execute_result"
    }
   ],
   "source": [
    "spins = torch.multinomial(probs, 1).float()\n",
    "spins"
   ]
  },
  {
   "cell_type": "code",
   "execution_count": 32,
   "metadata": {},
   "outputs": [
    {
     "data": {
      "image/png": "[encoded data removed]",
      "text/plain": [
       "<Figure size 1000x600 with 1 Axes>"
      ]
     },
     "metadata": {},
     "output_type": "display_data"
    }
   ],
   "source": [
    "import matplotlib.pyplot as plt\n",
    "\n",
    "# Convert probs tensor to numpy array for easier plotting\n",
    "probs_np = probs.detach().numpy()\n",
    "\n",
    "# Plot the probabilities for each site\n",
    "plt.figure(figsize=(10, 6))\n",
    "for i in range(probs_np.shape[1]):\n",
    "    plt.bar(range(probs_np.shape[0]), probs_np[:, i], alpha=0.5, label=f\"Site {i+1}\")\n",
    "    break\n",
    "\n",
    "N = 100000\n",
    "samples = torch.multinomial(probs, N, replacement=True)\n",
    "\n",
    "# Calculate empirical probabilities\n",
    "empirical_probs = 1 - samples.float().mean(dim=1).numpy()\n",
    "\n",
    "# Overlay empirical probabilities\n",
    "plt.plot(\n",
    "    range(empirical_probs.shape[0]),\n",
    "    empirical_probs,\n",
    "    \"r-\",\n",
    "    label=\"Empirical Probability\",\n",
    ")\n",
    "\n",
    "plt.xlabel(\"Sample Index\")\n",
    "plt.ylabel(\"Probability\")\n",
    "plt.title(\"Probabilities for Each Site\")\n",
    "plt.legend()\n",
    "plt.show()"
   ]
  },
  {
   "cell_type": "code",
   "execution_count": 33,
   "metadata": {},
   "outputs": [
    {
     "data": {
      "text/plain": [
       "tensor([[ 0.1815],\n",
       "        [ 0.3143],\n",
       "        [-0.3151],\n",
       "        [-0.3537],\n",
       "        [-0.2055],\n",
       "        [ 0.0680],\n",
       "        [-0.2221],\n",
       "        [-0.4828],\n",
       "        [-0.2789],\n",
       "        [-0.1994],\n",
       "        [-0.0291],\n",
       "        [-0.1636],\n",
       "        [ 0.3139],\n",
       "        [-0.2662],\n",
       "        [-0.3019],\n",
       "        [ 0.3577],\n",
       "        [-0.2907],\n",
       "        [-0.1200],\n",
       "        [-0.2406],\n",
       "        [-0.1376],\n",
       "        [-0.0700],\n",
       "        [-0.3043],\n",
       "        [-0.1036],\n",
       "        [-0.2453],\n",
       "        [ 0.1852],\n",
       "        [-0.0849],\n",
       "        [ 0.0311],\n",
       "        [-0.0087],\n",
       "        [ 0.1738],\n",
       "        [-0.2079],\n",
       "        [-0.1747],\n",
       "        [-0.2025]], grad_fn=<MulBackward0>)"
      ]
     },
     "execution_count": 33,
     "metadata": {},
     "output_type": "execute_result"
    }
   ],
   "source": [
    "phases"
   ]
  },
  {
   "cell_type": "code",
   "execution_count": 34,
   "metadata": {},
   "outputs": [
    {
     "name": "stdout",
     "output_type": "stream",
     "text": [
      "tensor([[0., 0., 1.,  ..., 0., 0., 0.],\n",
      "        [0., 0., 0.,  ..., 1., 1., 1.],\n",
      "        [1., 0., 0.,  ..., 0., 0., 0.],\n",
      "        ...,\n",
      "        [1., 0., 0.,  ..., 0., 1., 1.],\n",
      "        [0., 0., 0.,  ..., 0., 0., 0.],\n",
      "        [0., 0., 1.,  ..., 1., 0., 1.]])\n"
     ]
    }
   ],
   "source": [
    "def autoregressive_sampling(\n",
    "    encoder, full_enc, prob_head, phase_head, test_potentials, max_length=MAX_LENGTH\n",
    "):\n",
    "    spins = torch.zeros(max_length, TEST_BATCH)\n",
    "\n",
    "    # Iterate over each position in the sequence\n",
    "    for i in range(max_length):\n",
    "        encoded = full_enc(test_potentials, spins)\n",
    "\n",
    "        post_attn = encoder(encoded)\n",
    "\n",
    "        prob_logits = prob_head(post_attn)\n",
    "        phase_logits = phase_head(post_attn)\n",
    "\n",
    "        probs = torch.softmax(prob_logits[i, :, :], dim=-1)\n",
    "        phases = torch.nn.functional.softsign(phase_logits[i, :, :]) * torch.pi\n",
    "\n",
    "        spins[i, :] = torch.multinomial(probs, 1).float().squeeze()\n",
    "\n",
    "    return spins\n",
    "\n",
    "\n",
    "# Example usage\n",
    "sampled_spins = autoregressive_sampling(\n",
    "    encoder, full_enc, prob_head, phase_head, test_potentials\n",
    ")\n",
    "print(sampled_spins)"
   ]
  },
  {
   "cell_type": "code",
   "execution_count": null,
   "metadata": {},
   "outputs": [],
   "source": [
    "from torch.func import jacrev\n",
    "\n",
    "x = torch.randn(5)\n",
    "jacob = jacrev(torch.sin)(x)"
   ]
  },
  {
   "cell_type": "code",
   "execution_count": null,
   "metadata": {},
   "outputs": [],
   "source": []
  }
 ],
 "metadata": {
  "kernelspec": {
   "display_name": "tqs2",
   "language": "python",
   "name": "python3"
  },
  "language_info": {
   "codemirror_mode": {
    "name": "ipython",
    "version": 3
   },
   "file_extension": ".py",
   "mimetype": "text/x-python",
   "name": "python",
   "nbconvert_exporter": "python",
   "pygments_lexer": "ipython3",
   "version": "3.12.2"
  }
 },
 "nbformat": 4,
 "nbformat_minor": 2
}
