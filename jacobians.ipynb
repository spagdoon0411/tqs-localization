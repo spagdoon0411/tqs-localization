{
 "cells": [
  {
   "cell_type": "code",
   "execution_count": 10,
   "metadata": {},
   "outputs": [],
   "source": [
    "from torch.func import jacrev\n",
    "import torch"
   ]
  },
  {
   "cell_type": "markdown",
   "metadata": {},
   "source": [
    "`jacrev` creates a function that produces Jacobians. In this sense it performs differentiation of the function provided to it."
   ]
  },
  {
   "cell_type": "code",
   "execution_count": 11,
   "metadata": {},
   "outputs": [
    {
     "data": {
      "text/plain": [
       "tensor([[-0.9423,  0.0000,  0.0000,  0.0000,  0.0000],\n",
       "        [-0.0000,  0.9994,  0.0000,  0.0000,  0.0000],\n",
       "        [-0.0000,  0.0000,  0.9867,  0.0000,  0.0000],\n",
       "        [-0.0000,  0.0000,  0.0000,  0.5887,  0.0000],\n",
       "        [-0.0000,  0.0000,  0.0000,  0.0000,  0.8441]])"
      ]
     },
     "execution_count": 11,
     "metadata": {},
     "output_type": "execute_result"
    }
   ],
   "source": [
    "# Diagonal matrix produced for unary operations with 1D tensor inputs\n",
    "x = torch.randn(5)\n",
    "jacob = jacrev(torch.sin)(x)\n",
    "jacob"
   ]
  },
  {
   "cell_type": "code",
   "execution_count": 12,
   "metadata": {},
   "outputs": [
    {
     "data": {
      "text/plain": [
       "tensor([[-0.9423,  0.0000,  0.0000,  0.0000,  0.0000],\n",
       "        [ 0.0000,  0.9994,  0.0000,  0.0000,  0.0000],\n",
       "        [ 0.0000,  0.0000,  0.9867,  0.0000,  0.0000],\n",
       "        [ 0.0000,  0.0000,  0.0000,  0.5887,  0.0000],\n",
       "        [ 0.0000,  0.0000,  0.0000,  0.0000,  0.8441]])"
      ]
     },
     "execution_count": 12,
     "metadata": {},
     "output_type": "execute_result"
    }
   ],
   "source": [
    "# i.e. is the same as\n",
    "torch.diag(torch.cos(x))"
   ]
  },
  {
   "cell_type": "code",
   "execution_count": 16,
   "metadata": {},
   "outputs": [
    {
     "name": "stderr",
     "output_type": "stream",
     "text": [
      "/home/spandan/anaconda3/envs/tqs2/lib/python3.12/site-packages/torch/nn/modules/transformer.py:306: UserWarning: enable_nested_tensor is True, but self.use_nested_tensor is False because encoder_layer.self_attn.batch_first was not True(use batch_first for better inference performance)\n",
      "  warnings.warn(f\"enable_nested_tensor is True, but self.use_nested_tensor is False because {why_not_sparsity_fast_path}\")\n"
     ]
    }
   ],
   "source": [
    "from model import TQS\n",
    "\n",
    "tqs = TQS(\n",
    "    embed_dim=32,\n",
    "    max_chain_len=100,\n",
    "    num_heads=2,\n",
    "    num_layers=2,\n",
    "    possible_spins=2,\n",
    "    dim_feedforward=12,\n",
    ")"
   ]
  },
  {
   "cell_type": "code",
   "execution_count": null,
   "metadata": {},
   "outputs": [],
   "source": [
    "psi_x, psi_l, psi_r = tqs.psi_terms(sampled_spins, test_potentials, T)"
   ]
  },
  {
   "cell_type": "markdown",
   "metadata": {},
   "source": []
  },
  {
   "cell_type": "markdown",
   "metadata": {},
   "source": []
  }
 ],
 "metadata": {
  "kernelspec": {
   "display_name": "tqs2",
   "language": "python",
   "name": "python3"
  },
  "language_info": {
   "codemirror_mode": {
    "name": "ipython",
    "version": 3
   },
   "file_extension": ".py",
   "mimetype": "text/x-python",
   "name": "python",
   "nbconvert_exporter": "python",
   "pygments_lexer": "ipython3",
   "version": "3.12.2"
  }
 },
 "nbformat": 4,
 "nbformat_minor": 2
}
